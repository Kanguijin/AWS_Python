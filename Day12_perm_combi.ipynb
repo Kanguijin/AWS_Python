{
 "cells": [
  {
   "cell_type": "code",
   "execution_count": 1,
   "id": "4acdccac",
   "metadata": {},
   "outputs": [],
   "source": [
    "# 주사위를 3번 던져 나올 수 있는 모든 경우의 수 : 6**3\n",
    "# -- with replacement \n",
    "\n",
    "# 1에서부터 6까지 숫자가 적힌 공이 든 박스에서 3개의 공을 꺼낼 때\n",
    "# 나올 수 있는 모든 경우의 수 : 6 * 5 * 4 \n",
    "# -- without replacement\n",
    "\n",
    "# 1에서부터 6까지 숫자가 적힌 공이 든 박스에서 3개의 공을 꺼내면서\n",
    "# 꺼낸공을 다시 집어넣고, 섞어서 뽑았을때 나올 수 있는 모든 경우의 수: 6**3\n",
    "# -- with replacement\n"
   ]
  },
  {
   "cell_type": "code",
   "execution_count": 2,
   "id": "1e6b8311",
   "metadata": {},
   "outputs": [],
   "source": [
    "# permutation 순열 : (a, b, c), (b,c,a)\n",
    "\n",
    "# 1에서부터 6까지 숫자가 적힌 공이 든 박스에서 2개의 공을 꺼낼 때\n",
    "# 나올 수 있는 모든 경우의 수 : 6 * 5 \n",
    "# -- without replacement\n",
    "\n",
    "# n = 6\n",
    "# r = 2\n",
    "\n",
    "#n!/(n-r)!"
   ]
  },
  {
   "cell_type": "code",
   "execution_count": null,
   "id": "0c14338b",
   "metadata": {},
   "outputs": [],
   "source": [
    "# combination (조합) : ( a,b,c), (b,c,a) --> 순서의 개념 없음, 둘은 같은 것\n",
    "\n",
    "# 1에서부터 6까지 숫자가 적힌 공이 든 박스에서 2개의 공을 꺼낼 때\n",
    "# 다른 구성으로 나올 수 있는 모든 경우의 수 : \n",
    "# -- without replacement\n",
    "\n",
    "# permutation(순열)에서 구성이 같은 것을 제외--> 조합 \n",
    "n = 6\n",
    "r = 2\n",
    "# combi = permutation(n,r)/r!"
   ]
  },
  {
   "cell_type": "code",
   "execution_count": 11,
   "id": "46f5b1e6",
   "metadata": {},
   "outputs": [
    {
     "data": {
      "text/plain": [
       "15.0"
      ]
     },
     "execution_count": 11,
     "metadata": {},
     "output_type": "execute_result"
    }
   ],
   "source": [
    "import numpy as np\n",
    "# 재귀함수: 자기 자신을 부르는(사용하는) 함수 \n",
    "#    - 탈출 조건이 중요.\n",
    "def fact_r(n):\n",
    "    if n == 2:\n",
    "        return n\n",
    "    return fact_r(n-1)*n\n",
    "\n",
    "def fact(n):\n",
    "    ret = 1\n",
    "    while n>1:\n",
    "        ret *= n\n",
    "        n -= 1\n",
    "    return ret\n",
    "\n",
    "def fact_np(n):\n",
    "    return np.arange(2,n+1).prod()\n",
    "    #return np.multiply.reduce(np.arange(2, n+1))\n",
    "\n",
    "assert fact_np(6) == fact_r(6)    \n",
    "\n",
    "#6! = 6*5*4*3*2*1 = 6*5!\n",
    "\n",
    "def perm(n, r):\n",
    "    return fact_r(n) / fact_r(n-r)\n",
    "\n",
    "assert perm(6,2) == 30.0\n",
    "assert perm(6,3) == 120.0\n",
    "\n",
    "def combi(n,r):\n",
    "    return perm(n,r)/fact_r(r)\n",
    "\n",
    "assert combi(6,2) == 15.0"
   ]
  },
  {
   "cell_type": "code",
   "execution_count": 13,
   "id": "f91ffe06",
   "metadata": {},
   "outputs": [],
   "source": [
    "def count_with_replacement_order(pool, sel_count):  # all\n",
    "    if sel_count == 1:\n",
    "        return len(pool), [[x] for x in pool]\n",
    "    a, b = count_with_replacement_order(pool, sel_count-1)\n",
    "    r = []\n",
    "    for x in pool:\n",
    "        for b_i in b:\n",
    "            r.append(b_i+[x])\n",
    "    return len(r), r    \n",
    "\n",
    "def perm_pool(pool, r):\n",
    "    if r == 1:\n",
    "        return len(pool), [[x] for x in pool]\n",
    "    ret = []\n",
    "    for x in pool:\n",
    "        pool_copy = [y for y in pool]\n",
    "        pool_copy.remove(x)\n",
    "        a, b = perm_pool(pool_copy, r-1)\n",
    "        for b_i in b:\n",
    "            ret.append(b_i+[x])\n",
    "    return len(ret), ret\n",
    "\n",
    "def combi_pool(pool, r):\n",
    "    a , b = perm_pool(pool, r)\n",
    "    r = []\n",
    "    for b_i in b:\n",
    "        r.append(set(b_i))\n",
    "    f = []\n",
    "    for r_i in r:\n",
    "        f.append(r_i)\n",
    "        while r_i in r:\n",
    "            r.remove(r_i)\n",
    "    if r:\n",
    "        f.append(r[0])\n",
    "    return len(f), f"
   ]
  },
  {
   "cell_type": "code",
   "execution_count": 21,
   "id": "fda2bad4",
   "metadata": {},
   "outputs": [
    {
     "data": {
      "text/plain": [
       "(19,\n",
       " [{'a', 'b', 'c'},\n",
       "  {'a', 'b', 'e'},\n",
       "  {'a', 'c', 'd'},\n",
       "  {'a', 'c', 'f'},\n",
       "  {'a', 'd', 'e'},\n",
       "  {'a', 'c', 'e'},\n",
       "  {'a', 'd', 'f'},\n",
       "  {'a', 'b', 'f'},\n",
       "  {'a', 'b', 'd'},\n",
       "  {'b', 'd', 'e'},\n",
       "  {'b', 'd', 'f'},\n",
       "  {'b', 'c', 'e'},\n",
       "  {'c', 'd', 'f'},\n",
       "  {'c', 'e', 'f'},\n",
       "  {'b', 'c', 'd'},\n",
       "  {'b', 'e', 'f'},\n",
       "  {'a', 'e', 'f'},\n",
       "  {'d', 'e', 'f'},\n",
       "  {'b', 'c', 'f'}])"
      ]
     },
     "execution_count": 21,
     "metadata": {},
     "output_type": "execute_result"
    }
   ],
   "source": [
    "# count_with_replacement_order(list('abcdef'), 3)\n",
    "# perm_pool(list('abcdef'), 3)\n",
    "combi_pool(list('abcdef'),3)"
   ]
  }
 ],
 "metadata": {
  "kernelspec": {
   "display_name": "Python 3 (ipykernel)",
   "language": "python",
   "name": "python3"
  },
  "language_info": {
   "codemirror_mode": {
    "name": "ipython",
    "version": 3
   },
   "file_extension": ".py",
   "mimetype": "text/x-python",
   "name": "python",
   "nbconvert_exporter": "python",
   "pygments_lexer": "ipython3",
   "version": "3.10.9"
  }
 },
 "nbformat": 4,
 "nbformat_minor": 5
}
