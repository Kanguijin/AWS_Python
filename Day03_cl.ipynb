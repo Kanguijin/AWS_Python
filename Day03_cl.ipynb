{
 "cells": [
  {
   "cell_type": "code",
   "execution_count": 1,
   "metadata": {},
   "outputs": [
    {
     "name": "stdout",
     "output_type": "stream",
     "text": [
      "myclass: 100, def\n",
      "<class '__main__.myclass'>\n",
      "500 def\n"
     ]
    }
   ],
   "source": [
    "class myclass:\n",
    "    myvar1 = 0\n",
    "    myvar2 = 'abc'\n",
    "\n",
    "    def __init__(self, a=0, b='aaa'):\n",
    "        self.myvar1 = a\n",
    "        self.myvar2 = b\n",
    "    \n",
    "\n",
    "    def mymethod1(self, n):\n",
    "        print(self.myvar1 * n, self.myvar2)\n",
    "\n",
    "    def __str__(self):\n",
    "        return 'myclass: {}, {}'.format(self.myvar1, self.myvar2)\n",
    "\n",
    "a = myclass(100,'def')\n",
    "print(a)\n",
    "print(type(a))\n",
    "\n",
    "a.mymethod1(5)"
   ]
  },
  {
   "cell_type": "code",
   "execution_count": 7,
   "metadata": {},
   "outputs": [
    {
     "name": "stdout",
     "output_type": "stream",
     "text": [
      "myclass2 - mymethod  0\n",
      "myclass2 - mynethod2\n"
     ]
    }
   ],
   "source": [
    "class myclass2(myclass):\n",
    "\n",
    "    def mymethod1(self,n):\n",
    "        print('myclass2 - mymethod ', self.myvar1*n)\n",
    "\n",
    "    def mymethod2(self):\n",
    "        print('myclass2 - mynethod2')\n",
    "\n",
    "b = myclass2()\n",
    "b.mymethod1(10)\n",
    "b.mymethod2()"
   ]
  },
  {
   "cell_type": "code",
   "execution_count": 13,
   "metadata": {},
   "outputs": [
    {
     "name": "stdout",
     "output_type": "stream",
     "text": [
      "['a', 'b', 'c', 'd', 'e', 'f', 'c', 'g', 'h', 'i']\n",
      "['a', 'c', 'd', 'e', 'f', 'c', 'g', 'h', 'i']\n"
     ]
    }
   ],
   "source": [
    "list_1 = list('abcdefcghi')\n",
    "print(list_1)\n",
    "list_1.remove('b')\n",
    "print(list_1)"
   ]
  },
  {
   "cell_type": "code",
   "execution_count": 23,
   "metadata": {},
   "outputs": [
    {
     "name": "stdout",
     "output_type": "stream",
     "text": [
      "['a', 'b', 'd', 'e', 'f', 'g', 'h', 'i']\n"
     ]
    }
   ],
   "source": [
    "def list_remove_all(target_list, target_value):\n",
    "    while target_value in target_list:\n",
    "        target_list.remove(target_value)\n",
    "    return target_list\n",
    "\n",
    "\n",
    "def list_remove_all_v2(targer_list, target_value):\n",
    "    while True:\n",
    "        try:\n",
    "            targer_list.remove(target_value)\n",
    "        except:\n",
    "            return targer_list\n",
    "    \n",
    "ret_list = list_remove_all_v2(list('abcdefcghi'),'c')\n",
    "print(ret_list)"
   ]
  },
  {
   "cell_type": "code",
   "execution_count": 28,
   "metadata": {},
   "outputs": [
    {
     "name": "stdout",
     "output_type": "stream",
     "text": [
      "['a', 'b', 'c', 'c', 'd', 'c', 1, 2]\n"
     ]
    },
    {
     "data": {
      "text/plain": [
       "['a', 'b', 'd', 1, 2]"
      ]
     },
     "execution_count": 28,
     "metadata": {},
     "output_type": "execute_result"
    }
   ],
   "source": [
    "class mylist(list):\n",
    "    def remove_all(self, target_value):\n",
    "        while target_value in self:\n",
    "            self.remove(target_value)\n",
    "        return self\n",
    "  \n",
    "\n",
    "mylist_1 = mylist(list('abccdc'))\n",
    "mylist_1.append(1)\n",
    "mylist_1.append(2)\n",
    "print(mylist_1)\n",
    "mylist_1.remove_all('c')\n"
   ]
  }
 ],
 "metadata": {
  "kernelspec": {
   "display_name": "AWS_Python",
   "language": "python",
   "name": "python3"
  },
  "language_info": {
   "codemirror_mode": {
    "name": "ipython",
    "version": 3
   },
   "file_extension": ".py",
   "mimetype": "text/x-python",
   "name": "python",
   "nbconvert_exporter": "python",
   "pygments_lexer": "ipython3",
   "version": "3.10.9"
  },
  "orig_nbformat": 4,
  "vscode": {
   "interpreter": {
    "hash": "f35ae07caeb71a7a806dd99c044bd9d17f9f2961115b7241343c56311dc2e76f"
   }
  }
 },
 "nbformat": 4,
 "nbformat_minor": 2
}
