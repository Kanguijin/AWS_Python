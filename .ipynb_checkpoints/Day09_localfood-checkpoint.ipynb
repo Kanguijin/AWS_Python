{
 "cells": [
  {
   "cell_type": "markdown",
   "id": "7ca72059",
   "metadata": {},
   "source": [
    "### 전국로컬푸드인증정보표준데이터\n",
    "url: https://www.data.go.kr/data/15025455/standard.do\n",
    "\n",
    "    - csv 파일 수동 다운로드하여 작업\n",
    "    - ndarray 사용가능 (문자열 데이터 타입)\n",
    "    \n",
    "\n",
    "* 품목 top 10(품목별 카운트)\n",
    "    - 다중품목(+또는, 로 연결)은 각각 분리\n",
    "    - 이외 단일품목으로 취급.\n",
    "    - 나머지는 알아서. ex)파(실파+대파)--> 파 또는 [실파,대파]\n",
    "* 주소 공란: 옆칸 조회해서 메꾸기\n",
    "* dictionary 작성: {군단위 지역명: 품목명}\n",
    "* dictionary 작성: {품목 : [군단위 지역명]}\n",
    "\n",
    "* jupyter note 업로드: 이름_로컬푸드.ipynb"
   ]
  },
  {
   "cell_type": "code",
   "execution_count": 1,
   "id": "41f9b443",
   "metadata": {},
   "outputs": [],
   "source": [
    "\n",
    "import numpy as np\n",
    "import math\n",
    "\n",
    "def my_split(s):\n",
    "    block_start = False\n",
    "    start_index = 0\n",
    "    ret_list=[]\n",
    "    for i, c in enumerate(s):\n",
    "        if block_start==False:\n",
    "            if c==',':\n",
    "                ret_list.append(s[start_index:i])\n",
    "                start_index=i+1\n",
    "            elif c=='\"':\n",
    "                block_start=True\n",
    "                start_index = i\n",
    "        else:\n",
    "            if c=='\"':\n",
    "                block_start=False\n",
    "    if s[-1]!=',':\n",
    "        ret_list.append(s[start_index:])\n",
    "    return ret_list\n",
    "\n",
    "def split_len(data_list):\n",
    "    len_list=[]\n",
    "    for e in data_list:\n",
    "        len_list.append(len(e))\n",
    "    print(set(len_list))\n",
    "    if len(set(len_list))>1:\n",
    "        for i in set(len_list):\n",
    "            print(i, len_list.count(i))\n"
   ]
  },
  {
   "cell_type": "code",
   "execution_count": 2,
   "id": "cfcc57c9",
   "metadata": {},
   "outputs": [
    {
     "ename": "AttributeError",
     "evalue": "'numpy.ndarray' object has no attribute 'split'",
     "output_type": "error",
     "traceback": [
      "\u001b[1;31m---------------------------------------------------------------------------\u001b[0m",
      "\u001b[1;31mAttributeError\u001b[0m                            Traceback (most recent call last)",
      "Cell \u001b[1;32mIn[2], line 10\u001b[0m\n\u001b[0;32m      7\u001b[0m s\u001b[38;5;241m=\u001b[39mraw_data_nd[:,\u001b[38;5;241m8\u001b[39m:\u001b[38;5;241m9\u001b[39m]\n\u001b[0;32m      9\u001b[0m \u001b[38;5;28;01mfor\u001b[39;00m i, e \u001b[38;5;129;01min\u001b[39;00m \u001b[38;5;28menumerate\u001b[39m(s):\n\u001b[1;32m---> 10\u001b[0m     \u001b[43me\u001b[49m\u001b[38;5;241;43m.\u001b[39;49m\u001b[43msplit\u001b[49m(\u001b[38;5;124m'\u001b[39m\u001b[38;5;124m,\u001b[39m\u001b[38;5;124m'\u001b[39m)\n",
      "\u001b[1;31mAttributeError\u001b[0m: 'numpy.ndarray' object has no attribute 'split'"
     ]
    }
   ],
   "source": [
    "raw_data = []\n",
    "with open('전국로컬푸드인증정보표준데이터.csv') as x:\n",
    "    for line in x:\n",
    "        raw_data.append(my_split(line))\n",
    "    raw_data_nd = np.array(raw_data)\n",
    "    \n",
    "s=raw_data_nd[:,8:9]\n",
    "\n",
    "for i, e in enumerate(s):\n",
    "    e.split(',')"
   ]
  },
  {
   "cell_type": "code",
   "execution_count": null,
   "id": "12fa5eb0",
   "metadata": {},
   "outputs": [],
   "source": []
  }
 ],
 "metadata": {
  "kernelspec": {
   "display_name": "Python 3 (ipykernel)",
   "language": "python",
   "name": "python3"
  },
  "language_info": {
   "codemirror_mode": {
    "name": "ipython",
    "version": 3
   },
   "file_extension": ".py",
   "mimetype": "text/x-python",
   "name": "python",
   "nbconvert_exporter": "python",
   "pygments_lexer": "ipython3",
   "version": "3.10.9"
  }
 },
 "nbformat": 4,
 "nbformat_minor": 5
}
