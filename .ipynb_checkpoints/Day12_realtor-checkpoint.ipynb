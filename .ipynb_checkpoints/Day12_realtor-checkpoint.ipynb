{
 "cells": [
  {
   "cell_type": "code",
   "execution_count": 73,
   "id": "15c7a9b1",
   "metadata": {
    "scrolled": true
   },
   "outputs": [
    {
     "name": "stdout",
     "output_type": "stream",
     "text": [
      "[['중개사무소명', '개설등록번호', '개업공인중개사종별구분', '소재지도로명주소', '소재지지번주소', '전화번호', '개설등록일자', '공제가입유무', '대표자명', '위도', '경도', '중개보조원수', '소속공인중개사수', '홈페이지주소', '데이터기준일자', '제공기관코드', '제공기관명'], ['제일공인중개사사무소', '26710-2015-00005', '공인중개사', '부산광역시 기장군 정관읍 구연로 26', '', '', '2015-01-07', 'Y', '송미경', '', '', '', '', '', '2022-11-25', '3400000', '부산광역시 기장군'], ['늘채움부동산공인중개사사무소', '26710-2015-00013', '공인중개사', '\"부산광역시 기장군 기장읍 차성남로 91, 1층 일부\"', '', '', '2015-01-21', 'Y', '강경미', '', '', '', '', '', '2022-11-25', '3400000', '부산광역시 기장군']]\n"
     ]
    }
   ],
   "source": [
    "def my_split(s):\n",
    "    block_start = False\n",
    "    start_index = 0\n",
    "    ret_list=[]\n",
    "    for i, c in enumerate(s):\n",
    "        if block_start==False:\n",
    "            if c==',':\n",
    "                ret_list.append(s[start_index:i])\n",
    "                start_index=i+1\n",
    "            elif c=='\"':\n",
    "                block_start=True\n",
    "                start_index = i\n",
    "        else:\n",
    "            if c=='\"':\n",
    "                block_start=False\n",
    "    if s[-1]!=',':\n",
    "        ret_list.append(s[start_index:])\n",
    "    return ret_list\n",
    "\n",
    "def split_len(data_list):\n",
    "    len_list=[]\n",
    "    for e in data_list:\n",
    "        len_list.append(len(e))\n",
    "    print(set(len_list))\n",
    "    if len(set(len_list))>1:\n",
    "        for i in set(len_list):\n",
    "            print(i, len_list.count(i))\n",
    "\n",
    "csv_data=[]\n",
    "with open('전국공인중개사사무소표준데이터.csv') as f:\n",
    "    for line in f:\n",
    "        csv_data.append(my_split(line[:-1]))\n",
    "print(csv_data[:3])\n",
    "\n"
   ]
  },
  {
   "cell_type": "code",
   "execution_count": 74,
   "id": "51b49b09",
   "metadata": {},
   "outputs": [
    {
     "name": "stdout",
     "output_type": "stream",
     "text": [
      "2\n",
      "총 공인중개사 수:  29369\n",
      "개업공인중개사 수:  5085\n",
      "공인중개사 수: 23757\n",
      "법인 수: 527\n",
      "공인중개사종별 비율 개업공인중개사: 17.31417481017399 공인중개사: 80.89141611903707 법인 수: 1.794409070788927\n"
     ]
    }
   ],
   "source": [
    "realtor_index = csv_data[0].index('개업공인중개사종별구분')\n",
    "print(realtor_index)\n",
    "\n",
    "realtor_cnt = []\n",
    "for e in csv_data[1:]:\n",
    "    realtor_cnt.append(e[realtor_index])\n",
    "#print(realtor_cnt)\n",
    "print('총 공인중개사 수: ', len(realtor_cnt))\n",
    "s_realtor_cnt = len(realtor_cnt)\n",
    "\n",
    "print('개업공인중개사 수: ', realtor_cnt.count('개업공인중개사'))\n",
    "open_realtor_cnt = realtor_cnt.count('개업공인중개사')\n",
    "\n",
    "print('공인중개사 수:', realtor_cnt.count('공인중개사'))\n",
    "n_realtor_cnt = realtor_cnt.count('공인중개사')\n",
    "\n",
    "print('법인 수:', realtor_cnt.count('법인'))\n",
    "c_realtor_cnt = realtor_cnt.count('법인')\n",
    "\n",
    "print('공인중개사종별 비율', '개업공인중개사:', (open_realtor_cnt *100) / s_realtor_cnt,'공인중개사:',(n_realtor_cnt *100) / s_realtor_cnt, '법인 수:', (c_realtor_cnt *100) / s_realtor_cnt)\n",
    "                                                                            \n",
    "\n"
   ]
  },
  {
   "cell_type": "code",
   "execution_count": 90,
   "id": "b0468b69",
   "metadata": {},
   "outputs": [
    {
     "name": "stdout",
     "output_type": "stream",
     "text": [
      "공제미가입중개사: 30 전체대비비율 0.0010214852395382887\n",
      "116\n"
     ]
    }
   ],
   "source": [
    "rdct_index = csv_data[0].index('공제가입유무')\n",
    "#print(rdct_index)\n",
    "rdct_cnt = []\n",
    "for e in csv_data[1:]:\n",
    "    rdct_cnt.append(e[rdct_index])\n",
    "#print(rdct_cnt)\n",
    "rdct_y_cnt = rdct_cnt.count('Y')\n",
    "rdct_n_cnt = s_realtor_cnt-rdct_y_cnt\n",
    "print('공제미가입중개사:',rdct_n_cnt,'전체대비비율', rdct_n_cnt/s_realtor_cnt)                                                            \n",
    "\n",
    "realtor_name_index = csv_data[0].index('중개사무소명')\n",
    "realtor_name= []\n",
    "realtor_name_cnt=[]\n",
    "for e in csv_data[1:]:\n",
    "    realtor_name.append(e[realtor_name_index])\n",
    "     \n",
    "for n in set(realtor_name):\n",
    "    n, realtor_name.count(n)\n",
    "    realtor_name_cnt.append(realtor_name.count(n))\n",
    "print(max(realtor_name_cnt))\n",
    "\n",
    "\n"
   ]
  }
 ],
 "metadata": {
  "kernelspec": {
   "display_name": "Python 3 (ipykernel)",
   "language": "python",
   "name": "python3"
  },
  "language_info": {
   "codemirror_mode": {
    "name": "ipython",
    "version": 3
   },
   "file_extension": ".py",
   "mimetype": "text/x-python",
   "name": "python",
   "nbconvert_exporter": "python",
   "pygments_lexer": "ipython3",
   "version": "3.10.9"
  }
 },
 "nbformat": 4,
 "nbformat_minor": 5
}
