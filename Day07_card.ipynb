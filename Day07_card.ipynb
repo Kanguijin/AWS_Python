{
 "cells": [
  {
   "cell_type": "code",
   "execution_count": 3,
   "metadata": {},
   "outputs": [
    {
     "name": "stdout",
     "output_type": "stream",
     "text": [
      "[4, 2, 5, 1, 3, 6]\n"
     ]
    }
   ],
   "source": [
    "import random\n",
    "\n",
    "lista= [1,2,3,4,5,6]\n",
    "random.shuffle(lista)\n",
    "print(lista)"
   ]
  },
  {
   "cell_type": "code",
   "execution_count": 18,
   "metadata": {},
   "outputs": [
    {
     "name": "stdout",
     "output_type": "stream",
     "text": [
      "['Ace', '2', '3', '4', '5', '6', '7', '8', '9', '10', 'Jack', 'Queen', 'King']\n"
     ]
    }
   ],
   "source": [
    "suits=['clover', 'diamond', 'heart', 'spade']\n",
    "rank = [str(i) for i in range(2,11)]\n",
    "rank = ['Ace'] + rank + ['Jack', 'Queen', 'King']\n",
    "print(rank)\n"
   ]
  },
  {
   "cell_type": "code",
   "execution_count": 195,
   "metadata": {},
   "outputs": [
    {
     "name": "stdout",
     "output_type": "stream",
     "text": [
      "{'clover-Ace': 1, 'clover-2': 2, 'clover-3': 3, 'clover-4': 4, 'clover-5': 5, 'clover-6': 6, 'clover-7': 7, 'clover-8': 8, 'clover-9': 9, 'clover-10': 10, 'clover-Jack': 10, 'clover-Queen': 10, 'clover-King': 10, 'diamond-Ace': 1, 'diamond-2': 2, 'diamond-3': 3, 'diamond-4': 4, 'diamond-5': 5, 'diamond-6': 6, 'diamond-7': 7, 'diamond-8': 8, 'diamond-9': 9, 'diamond-10': 10, 'diamond-Jack': 10, 'diamond-Queen': 10, 'diamond-King': 10, 'heart-Ace': 1, 'heart-2': 2, 'heart-3': 3, 'heart-4': 4, 'heart-5': 5, 'heart-6': 6, 'heart-7': 7, 'heart-8': 8, 'heart-9': 9, 'heart-10': 10, 'heart-Jack': 10, 'heart-Queen': 10, 'heart-King': 10, 'spade-Ace': 1, 'spade-2': 2, 'spade-3': 3, 'spade-4': 4, 'spade-5': 5, 'spade-6': 6, 'spade-7': 7, 'spade-8': 8, 'spade-9': 9, 'spade-10': 10, 'spade-Jack': 10, 'spade-Queen': 10, 'spade-King': 10}\n"
     ]
    }
   ],
   "source": [
    "Deck=[]             # 'Clover-Ace', 'Clover-2',.,..\n",
    "\n",
    "for s in suits:\n",
    "    for r in rank:\n",
    "        Deck.append(s+'-'+r)\n",
    "        #print(s+'-'+r)\n",
    "\n",
    "score_list = [i +1 for i in range(10)]\n",
    "score_list = score_list + [10]*3\n",
    "score_list = score_list *4\n",
    "score_dict = dict(zip(Deck, score_list))\n",
    "print(score_dict)\n",
    "#print(Deck)\n",
    "#print(score_list)\n",
    "def score_hand(hand):\n",
    "    score = 0\n",
    "    for card in hand:\n",
    "        score = score_dict[card]\n",
    "    return score\n"
   ]
  },
  {
   "cell_type": "code",
   "execution_count": 169,
   "metadata": {},
   "outputs": [
    {
     "name": "stdout",
     "output_type": "stream",
     "text": [
      "['diamond-Ace', 'spade-Queen', 'diamond-King', 'spade-2', 'heart-4', 'heart-6', 'diamond-8', 'spade-10', 'clover-Jack', 'diamond-6', 'heart-5', 'spade-Jack', 'clover-8', 'heart-Ace', 'diamond-2', 'spade-5', 'diamond-Jack', 'heart-10', 'clover-6', 'heart-Queen', 'diamond-7', 'clover-7', 'heart-3', 'spade-Ace', 'spade-3', 'spade-4', 'clover-5', 'clover-3', 'heart-Jack', 'diamond-5', 'diamond-3', 'heart-7', 'spade-King', 'clover-Ace', 'spade-7', 'clover-4', 'clover-2', 'clover-King', 'spade-9', 'heart-2', 'diamond-9', 'clover-10', 'spade-8', 'clover-9', 'diamond-10', 'heart-8', 'diamond-Queen', 'spade-6', 'heart-King', 'clover-Queen', 'diamond-4', 'heart-9']\n"
     ]
    }
   ],
   "source": [
    "random.shuffle(Deck)\n",
    "print(Deck)"
   ]
  },
  {
   "cell_type": "code",
   "execution_count": 196,
   "metadata": {},
   "outputs": [
    {
     "name": "stdout",
     "output_type": "stream",
     "text": [
      "Game Start\n",
      "\n",
      "Dealer hands\n",
      "['spade-7', 'heart-9'] 9\n",
      "\n",
      "Player hands\n",
      "['clover-Ace', 'clover-Queen'] 10\n",
      "['clover-Ace', 'clover-Queen', 'heart-7'] 7\n"
     ]
    }
   ],
   "source": [
    "print('Game Start\\n')\n",
    "random.shuffle(Deck)\n",
    "print('Dealer hands')\n",
    "dealer_hand = [Deck.pop() for _ in range(2)]\n",
    "print(dealer_hand, score_hand(dealer_hand))\n",
    "\n",
    "print('\\nPlayer hands')\n",
    "player_hand = [Deck.pop() for i in range(2)]\n",
    "print(player_hand, score_hand(player_hand))\n",
    "\n",
    "if score_hand(player_hand) < 21:\n",
    "    ans = int(input('Deal(1) or Stop(0):'))\n",
    "    if ans == 1:\n",
    "        player_hand.append(Deck.pop())\n",
    "        print(player_hand, score_hand(player_hand))"
   ]
  },
  {
   "cell_type": "code",
   "execution_count": null,
   "metadata": {},
   "outputs": [],
   "source": []
  }
 ],
 "metadata": {
  "kernelspec": {
   "display_name": "AWS_Python",
   "language": "python",
   "name": "python3"
  },
  "language_info": {
   "codemirror_mode": {
    "name": "ipython",
    "version": 3
   },
   "file_extension": ".py",
   "mimetype": "text/x-python",
   "name": "python",
   "nbconvert_exporter": "python",
   "pygments_lexer": "ipython3",
   "version": "3.10.9"
  },
  "orig_nbformat": 4,
  "vscode": {
   "interpreter": {
    "hash": "f35ae07caeb71a7a806dd99c044bd9d17f9f2961115b7241343c56311dc2e76f"
   }
  }
 },
 "nbformat": 4,
 "nbformat_minor": 2
}
