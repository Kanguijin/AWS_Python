{
 "cells": [
  {
   "attachments": {},
   "cell_type": "markdown",
   "metadata": {},
   "source": [
    "# Heading1\n",
    "## Heading2\n",
    "### Heading3\n",
    "\n",
    "heading\n",
    "=======\n",
    "\n",
    "heading2\n",
    "---------"
   ]
  },
  {
   "attachments": {},
   "cell_type": "markdown",
   "metadata": {},
   "source": [
    "문장1 문장2 문장 3\n",
    "\n",
    "문장4\n",
    "\n",
    "문단x"
   ]
  },
  {
   "attachments": {},
   "cell_type": "markdown",
   "metadata": {},
   "source": [
    "* mathjax\n",
    "\n",
    "$$\n",
    "    \\hat y = x_{i}+\\sum3\n",
    "$$"
   ]
  }
 ],
 "metadata": {
  "kernelspec": {
   "display_name": "AWS_Python",
   "language": "python",
   "name": "python3"
  },
  "language_info": {
   "codemirror_mode": {
    "name": "ipython",
    "version": 3
   },
   "file_extension": ".py",
   "mimetype": "text/x-python",
   "name": "python",
   "nbconvert_exporter": "python",
   "pygments_lexer": "ipython3",
   "version": "3.10.9"
  },
  "orig_nbformat": 4,
  "vscode": {
   "interpreter": {
    "hash": "f35ae07caeb71a7a806dd99c044bd9d17f9f2961115b7241343c56311dc2e76f"
   }
  }
 },
 "nbformat": 4,
 "nbformat_minor": 2
}
