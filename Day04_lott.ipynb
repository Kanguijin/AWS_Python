{
 "cells": [
  {
   "cell_type": "code",
   "execution_count": 4,
   "metadata": {},
   "outputs": [
    {
     "name": "stdout",
     "output_type": "stream",
     "text": [
      "[['5', '17', '26', '27', '35', '38', '1'], ['21', '26', '30', '32', '33', '35', '44'], ['6', '12', '31', '35', '38', '43', '17']]\n"
     ]
    },
    {
     "data": {
      "text/plain": [
       "1"
      ]
     },
     "execution_count": 4,
     "metadata": {},
     "output_type": "execute_result"
    }
   ],
   "source": [
    "csv_data=[]\n",
    "with open('lott.csv') as f:\n",
    "    for line in f:\n",
    "        csv_data.append(line[:-1].split(','))\n",
    "        #csv_data.append(line.replace('\\n','').split(','))\n",
    "print(csv_data[:3])\n",
    "int(csv_data[0][-1])"
   ]
  },
  {
   "cell_type": "code",
   "execution_count": 5,
   "metadata": {},
   "outputs": [
    {
     "name": "stdout",
     "output_type": "stream",
     "text": [
      "[[5, 17, 26, 27, 35, 38, 1], [21, 26, 30, 32, 33, 35, 44], [6, 12, 31, 35, 38, 43, 17]]\n"
     ]
    }
   ],
   "source": [
    "for e in csv_data:\n",
    "    for i, e_i in enumerate(e):\n",
    "        e[i] = int(e_i)\n",
    "print(csv_data[:3])"
   ]
  },
  {
   "cell_type": "code",
   "execution_count": 12,
   "metadata": {},
   "outputs": [
    {
     "name": "stdout",
     "output_type": "stream",
     "text": [
      "[1, 5, 17, 26, 27, 35, 38]\n",
      "21.285714285714285\n",
      "None\n",
      "[1, 5, 17, 26, 27, 35, 38]\n",
      "26\n",
      "26.5\n",
      "[-20.285714285714285, -16.285714285714285, -4.285714285714285, 4.714285714285715, 5.714285714285715, 13.714285714285715, 16.714285714285715]\n",
      "202.90476190476193\n",
      "14.244464254746893\n"
     ]
    }
   ],
   "source": [
    "import math\n",
    "def mean(num_list):\n",
    "   return sum(num_list)/len(num_list)\n",
    "\n",
    "def median(num_list):\n",
    "    num_list.sort()\n",
    "    if len(num_list) % 2 == 1:\n",
    "        i = (len(num_list)) // 2\n",
    "        return num_list[i]\n",
    "    else:\n",
    "         i = len(num_list)//2\n",
    "         return (num_list[i] + num_list[i-1]) / 2\n",
    "        \n",
    "def dev(num_list): # 편차\n",
    "    m = mean(num_list)\n",
    "    return [x-m for x in num_list]\n",
    "\n",
    "def var(num_list): # 분산\n",
    "    n = len(num_list)\n",
    "    d = dev(num_list)\n",
    "    return sum([x*x for x in d])/(n-1)\n",
    "\n",
    "def stdev(num_list): # 표준편차 \n",
    "    return math.sqrt(var(num_list))\n",
    "\n",
    "\n",
    "game1 = csv_data[0]\n",
    "print(game1)\n",
    "print(mean(game1))\n",
    "print(game1.sort())\n",
    "print(game1)\n",
    "print(median([1, 5, 17, 26, 27, 35, 38]))\n",
    "print(median([5, 17, 26, 27, 35, 38]))\n",
    "\n",
    "assert median([5, 17, 26, 27, 35, 38, 1])==26\n",
    "assert median([5, 17, 26, 27, 35, 38])==26.5\n",
    "\n",
    "print(dev([1, 5, 17, 26, 27, 35, 38]))\n",
    "print(var([1, 5, 17, 26, 27, 35, 38]))\n",
    "print(stdev([1, 5, 17, 26, 27, 35, 38]))"
   ]
  },
  {
   "cell_type": "code",
   "execution_count": 39,
   "metadata": {},
   "outputs": [
    {
     "name": "stdout",
     "output_type": "stream",
     "text": [
      "[1, 5, 17, 26, 27, 35, 38]\n",
      "after sorted: [5, 17, 26, 27, 35, 38, 1]\n",
      "[1, 5, 17, 26, 27, 35, 38]\n"
     ]
    }
   ],
   "source": [
    "# in-place\n",
    "list_a = [5, 17, 26, 27, 35, 38, 1]\n",
    "print(sorted(list_a))\n",
    "print('after sorted:', list_a)\n",
    "\n",
    "list_a.sort()\n",
    "print(list_a)\n",
    "\n"
   ]
  },
  {
   "cell_type": "code",
   "execution_count": 41,
   "metadata": {},
   "outputs": [
    {
     "name": "stdout",
     "output_type": "stream",
     "text": [
      "list_a: [5, 17, 26, 27, 35, 38, 1]\n",
      "list_b: [5, 17, 26, 27, 35, 38, 1]\n",
      "list_a: [100, 17, 26, 27, 35, 38, 1]\n",
      "list_b: [5, 17, 26, 27, 35, 38, 1]\n"
     ]
    }
   ],
   "source": [
    "#reference\n",
    "list_a = [5, 17, 26, 27, 35, 38, 1]\n",
    "list_b = []\n",
    "for i in list_a:\n",
    "    list_b.append(i)\n",
    "print('list_a:', list_a)\n",
    "print('list_b:', list_b)\n",
    "list_a[0]=100\n",
    "print('list_a:', list_a)\n",
    "print('list_b:', list_b)"
   ]
  }
 ],
 "metadata": {
  "kernelspec": {
   "display_name": "AWS_Python",
   "language": "python",
   "name": "python3"
  },
  "language_info": {
   "codemirror_mode": {
    "name": "ipython",
    "version": 3
   },
   "file_extension": ".py",
   "mimetype": "text/x-python",
   "name": "python",
   "nbconvert_exporter": "python",
   "pygments_lexer": "ipython3",
   "version": "3.10.9"
  },
  "orig_nbformat": 4,
  "vscode": {
   "interpreter": {
    "hash": "f35ae07caeb71a7a806dd99c044bd9d17f9f2961115b7241343c56311dc2e76f"
   }
  }
 },
 "nbformat": 4,
 "nbformat_minor": 2
}
