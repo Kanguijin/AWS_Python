{
 "cells": [
  {
   "cell_type": "code",
   "execution_count": 29,
   "id": "7841d83f",
   "metadata": {},
   "outputs": [],
   "source": [
    "import requests\n",
    "import numpy as np\n",
    "\n",
    "x = requests.get('https://archive.ics.uci.edu/ml/machine-learning-databases/iris/iris.data')"
   ]
  },
  {
   "cell_type": "code",
   "execution_count": 36,
   "id": "0df1588e",
   "metadata": {},
   "outputs": [],
   "source": [
    "raw_data=[]\n",
    "for line in x.text.split('\\n'):\n",
    "    raw_data.append(line.split(','))\n",
    "    \n",
    "for sample in raw_data:\n",
    "    if len(sample) < 1:\n",
    "        continue\n",
    "    for i, value in enumerate(sample[:4]):\n",
    "        try:\n",
    "            sample[i] = float(value)\n",
    "        except:\n",
    "            sample[i] = 0.0"
   ]
  },
  {
   "cell_type": "code",
   "execution_count": 9,
   "id": "abb08f7c",
   "metadata": {},
   "outputs": [
    {
     "name": "stdout",
     "output_type": "stream",
     "text": [
      "[[5.1, 3.5, 1.4, 0.2, 'Iris-setosa'], [4.9, 3.0, 1.4, 0.2, 'Iris-setosa'], [4.7, 3.2, 1.3, 0.2, 'Iris-setosa']]\n"
     ]
    }
   ],
   "source": [
    "print(raw_data[:3])"
   ]
  },
  {
   "cell_type": "code",
   "execution_count": 12,
   "id": "9c7fdf5a",
   "metadata": {},
   "outputs": [
    {
     "name": "stdout",
     "output_type": "stream",
     "text": [
      "[[5.1, 3.5, 1.4, 0.2, 2], [4.9, 3.0, 1.4, 0.2, 2], [4.7, 3.2, 1.3, 0.2, 2]]\n"
     ]
    }
   ],
   "source": [
    "for e in raw_data:\n",
    "    try:\n",
    "        if e[4]=='Iris-setosa':\n",
    "            e[4]=0\n",
    "        elif e[4]=='Iris Versicolour':\n",
    "            e[4]=1\n",
    "        else:\n",
    "            e[4]=2\n",
    "    except:\n",
    "        pass\n",
    "print(raw_data[:3])        "
   ]
  },
  {
   "cell_type": "code",
   "execution_count": 37,
   "id": "ffa0840d",
   "metadata": {},
   "outputs": [],
   "source": [
    "for sample in raw_data:\n",
    "    if len(sample)<2:\n",
    "        continue\n",
    "    if 'setosa' in sample[-1]:\n",
    "        sample[-1]=0.0\n",
    "    elif 'versicolor' in sample[-1]:\n",
    "        sample[-1] = 1.0\n",
    "    elif 'virginica' in sample[-1]:\n",
    "        sample[-1] = 2.0"
   ]
  },
  {
   "cell_type": "code",
   "execution_count": 40,
   "id": "9cead47a",
   "metadata": {},
   "outputs": [
    {
     "name": "stdout",
     "output_type": "stream",
     "text": [
      "[5.1, 3.5, 1.4, 0.2, 0.0]\n",
      "[6.4, 3.2, 4.5, 1.5, 1.0]\n",
      "[5.8, 2.7, 5.1, 1.9, 2.0]\n"
     ]
    }
   ],
   "source": [
    "print(raw_data[0])\n",
    "print(raw_data[51])\n",
    "print(raw_data[101])"
   ]
  },
  {
   "cell_type": "code",
   "execution_count": 44,
   "id": "dc6193d9",
   "metadata": {},
   "outputs": [
    {
     "name": "stdout",
     "output_type": "stream",
     "text": [
      "[[6.5, 3.0, 5.2, 2.0, 2.0], [6.2, 3.4, 5.4, 2.3, 2.0], [5.9, 3.0, 5.1, 1.8, 2.0]]\n",
      "150\n",
      "[[6.5, 3.0, 5.2, 2.0, 2.0], [6.2, 3.4, 5.4, 2.3, 2.0], [5.9, 3.0, 5.1, 1.8, 2.0]]\n"
     ]
    }
   ],
   "source": [
    "print(raw_data[-3:])\n",
    "print(len(raw_data))\n",
    "raw_data = raw_data[:150]\n",
    "print(raw_data[-3:])"
   ]
  },
  {
   "cell_type": "code",
   "execution_count": 47,
   "id": "1ffa40cb",
   "metadata": {},
   "outputs": [
    {
     "data": {
      "text/plain": [
       "array([[5.1, 3.5, 1.4, 0.2, 0. ],\n",
       "       [4.9, 3. , 1.4, 0.2, 0. ],\n",
       "       [4.7, 3.2, 1.3, 0.2, 0. ]])"
      ]
     },
     "execution_count": 47,
     "metadata": {},
     "output_type": "execute_result"
    }
   ],
   "source": [
    "np_data = np.array(raw_data)\n",
    "np_data.shape\n",
    "np_data[:3]"
   ]
  },
  {
   "cell_type": "markdown",
   "id": "6fb6f12c",
   "metadata": {},
   "source": [
    "### 기본 통계값\n",
    "* 전체 평균, 표준편차 \n",
    "* 품종별 평균, 표준편차 \n",
    "\n",
    "* 평균 np.mean()\n",
    "* 표준편차 np.std()"
   ]
  },
  {
   "cell_type": "code",
   "execution_count": 60,
   "id": "3ef81995",
   "metadata": {},
   "outputs": [
    {
     "name": "stdout",
     "output_type": "stream",
     "text": [
      "전체평균 [5.84333333 3.054      3.75866667 1.19866667 1.        ]\n",
      "전체 표준편차 [0.82530129 0.43214658 1.75852918 0.76061262 0.81649658]\n",
      "세토사 평균 [5.04509804 3.41372549 1.52745098 0.26666667 0.01960784]\n",
      "베르시컬러 평균 [5.922 2.772 4.286 1.348 1.02 ]\n",
      "비르지니카 평균 [6.59387755 2.96734694 5.54285714 2.01632653 2.        ]\n",
      "세토사 표준편차 [0.44250345 0.37469967 0.47981959 0.19165601 0.13864839]\n",
      "베르시컬러 표준편차 [0.49083195 0.31371324 0.52192337 0.25553082 0.14      ]\n",
      "비르지니카 표준편차 [0.63451996 0.31904689 0.54809503 0.26599596 0.        ]\n"
     ]
    }
   ],
   "source": [
    "np_data_mean = np.mean(np_data, axis=0)\n",
    "print('전체평균',np_data_mean)\n",
    "np_data_std = np.std(np_data, axis=0)\n",
    "print('전체 표준편차',np_data_std)\n",
    "\n",
    "np_data_mean_setosa = np.mean(np_data[:51], axis=0)\n",
    "print('세토사 평균',np_data_mean_setosa)\n",
    "np_data_mean_versicolor = np.mean(np_data[51:101], axis=0)\n",
    "print('베르시컬러 평균', np_data_mean_versicolor)\n",
    "np_data_mean_virginica= np.mean(np_data[101:], axis=0)\n",
    "print('비르지니카 평균', np_data_mean_virginica)\n",
    "\n",
    "np_data_std_setosa = np.std(np_data[:51], axis=0)\n",
    "print('세토사 표준편차',np_data_std_setosa)\n",
    "np_data_std_setosa = np.std(np_data[51:101], axis=0)\n",
    "print('베르시컬러 표준편차',np_data_std_setosa)\n",
    "np_data_std_setosa = np.std(np_data[101:], axis=0)\n",
    "print('비르지니카 표준편차',np_data_std_setosa)"
   ]
  },
  {
   "cell_type": "code",
   "execution_count": 67,
   "id": "eefa429a",
   "metadata": {},
   "outputs": [
    {
     "name": "stdout",
     "output_type": "stream",
     "text": [
      "[[5.1 3.5 1.4 0.2 0. ]\n",
      " [4.9 3.  1.4 0.2 0. ]\n",
      " [4.7 3.2 1.3 0.2 0. ]]\n",
      "[5.84333333 3.054      3.75866667 1.19866667 1.        ]\n",
      "[0.82530129 0.43214658 1.75852918 0.76061262 0.81649658]\n",
      "[[ 1.         -0.10936925  0.87175416  0.81795363  0.78256123]\n",
      " [-0.10936925  1.         -0.4205161  -0.35654409 -0.4194462 ]\n",
      " [ 0.87175416 -0.4205161   1.          0.9627571   0.94904254]\n",
      " [ 0.81795363 -0.35654409  0.9627571   1.          0.95646382]\n",
      " [ 0.78256123 -0.4194462   0.94904254  0.95646382  1.        ]]\n"
     ]
    }
   ],
   "source": [
    "print(np_data[:3])\n",
    "print(np.mean(np_data, axis=0))\n",
    "print(np.std(np_data, axis=0))\n",
    "print(np.corrcoef(np_data.T)) # 상관도 "
   ]
  },
  {
   "cell_type": "code",
   "execution_count": 71,
   "id": "5b2f3c87",
   "metadata": {},
   "outputs": [
    {
     "name": "stdout",
     "output_type": "stream",
     "text": [
      "[5.006 3.418 1.464 0.244 0.   ]\n",
      "[0.34894699 0.37719491 0.17176728 0.10613199 0.        ]\n"
     ]
    }
   ],
   "source": [
    "filter_setosa = np_data[:,-1]==0.0\n",
    "filter_versicolor = np_data[:,-1]==1.0\n",
    "filter_virginica = np_data[:,-1]==2.0\n",
    "\n",
    "print(np.mean(np_data[filter_setosa], axis=0))\n",
    "print(np.std(np_data[filter_setosa], axis=0))"
   ]
  },
  {
   "cell_type": "code",
   "execution_count": null,
   "id": "d267d02f",
   "metadata": {},
   "outputs": [],
   "source": []
  }
 ],
 "metadata": {
  "kernelspec": {
   "display_name": "Python 3 (ipykernel)",
   "language": "python",
   "name": "python3"
  },
  "language_info": {
   "codemirror_mode": {
    "name": "ipython",
    "version": 3
   },
   "file_extension": ".py",
   "mimetype": "text/x-python",
   "name": "python",
   "nbconvert_exporter": "python",
   "pygments_lexer": "ipython3",
   "version": "3.10.9"
  }
 },
 "nbformat": 4,
 "nbformat_minor": 5
}
